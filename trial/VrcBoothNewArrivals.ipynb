{
 "cells": [
  {
   "cell_type": "code",
   "execution_count": 1,
   "metadata": {},
   "outputs": [],
   "source": [
    "import os\n",
    "import requests\n",
    "import shutil\n",
    "from bs4 import BeautifulSoup\n",
    "from PIL import Image"
   ]
  },
  {
   "cell_type": "code",
   "execution_count": 10,
   "metadata": {},
   "outputs": [],
   "source": [
    "def get_config_or_default(key: str, default_value: object) -> object:\n",
    "    if key in os.environ:\n",
    "        return os.getenv(key)\n",
    "    else:\n",
    "        return default_value\n",
    "\n",
    "def get_booth_items_url() -> str:\n",
    "    return get_config_or_default(\"VBNA_TARGET_URL\", \"https://booth.pm/ja/items?sort=new&tags%5B%5D=VRChat\")\n",
    "    \n",
    "target_url = get_booth_items_url()"
   ]
  },
  {
   "cell_type": "code",
   "execution_count": 3,
   "metadata": {},
   "outputs": [],
   "source": [
    "def get_raw_html(url: str) -> str | None:\n",
    "    res = requests.get(target_url)\n",
    "    if res.status_code != 200:\n",
    "        return None\n",
    "    return res.text\n",
    "\n",
    "html_txt = get_raw_html(target_url)"
   ]
  },
  {
   "cell_type": "code",
   "execution_count": 4,
   "metadata": {},
   "outputs": [],
   "source": [
    "def parse_items(text: str) -> list[dict[str, str]]:\n",
    "    soup = BeautifulSoup(text, \"html.parser\")\n",
    "    items = soup.select(\"body > div.page-wrap > main > div.container > div.l-row.l-market-grid.u-mt-0.u-ml-0 > div > div.u-mt-400 > ul > li\")\n",
    "\n",
    "    urls = [i.select(\"div.item-card__thumbnail.js-thumbnail > div.item-card__thumbnail-images > a:nth-child(1)\")[0].attrs[\"href\"] for i in items]\n",
    "    image_urls = [i.select(\"div.item-card__thumbnail.js-thumbnail > div.item-card__thumbnail-images > a:nth-child(1)\")[0].attrs[\"data-original\"] for i in items]\n",
    "    names = [i.select(\"div.item-card__summary > div.item-card__title > a\")[0].text for i in items]\n",
    "    prices = [i.select(\"div.item-card__summary > div.u-d-flex.u-align-items-center.u-justify-content-between > div.price.u-text-primary.u-text-left.u-tpg-caption2\")[0].text for i in items]\n",
    "\n",
    "    return [{\"name\": name, \"url\": url, \"image_url\": image_url, \"price\": price} for (name, url, image_url, price) in zip(names, urls, image_urls, prices)]\n",
    "\n",
    "items = parse_items(html_txt)"
   ]
  },
  {
   "cell_type": "code",
   "execution_count": 23,
   "metadata": {},
   "outputs": [],
   "source": [
    "def get_work_dir(category_name: str, need_recreate: bool) -> str:\n",
    "    base_dir = get_config_or_default(\"VBNA_WORK_DIR\", os.path.join(os.path.curdir, \"tmp\"))\n",
    "    if not (os.path.exists(base_dir)):\n",
    "        os.mkdir(base_dir)\n",
    "\n",
    "    dst_dir = os.path.join(base_dir, category_name)\n",
    "    if not (os.path.exists(dst_dir)):\n",
    "        # create new\n",
    "        os.mkdir(dst_dir)\n",
    "    elif need_recreate:\n",
    "        # remove and recreate\n",
    "        shutil.rmtree(dst_dir)\n",
    "        os.mkdir(dst_dir)\n",
    "    return dst_dir\n",
    "\n",
    "def get_filename_from_url(url: str) -> str:\n",
    "    filename = url[url.rfind(\"/\") + 1:]\n",
    "    if not(filename):\n",
    "        raise NameError(f\"get_filename_from_url(url={url}) -> {filename}\")\n",
    "    return filename\n",
    "\n",
    "def download_images(category: str, target_urls: list[str], clear_cache: bool = False) -> list[str]:\n",
    "    base_dir = get_work_dir(f\"download_cache_{category}\", need_recreate=clear_cache)\n",
    "    for target_url in target_urls:\n",
    "        dst_name = get_filename_from_url(target_url)\n",
    "        dst_path = os.path.join(base_dir, dst_name)\n",
    "\n",
    "        if os.path.exists(dst_path):\n",
    "            # use from cache\n",
    "            pass\n",
    "        else:\n",
    "            # download\n",
    "            res = requests.get(target_url)\n",
    "            if res.status_code != 200:\n",
    "                raise ConnectionError(res)\n",
    "            # write to file\n",
    "            with open(dst_path, mode=\"wb\") as f:\n",
    "                f.write(res.content)\n",
    "        yield dst_path\n",
    "\n",
    "local_image_path_arr = list(download_images(\"items\", [item[\"image_url\"] for item in items], clear_cache=False))"
   ]
  },
  {
   "cell_type": "code",
   "execution_count": 31,
   "metadata": {},
   "outputs": [
    {
     "name": "stdout",
     "output_type": "stream",
     "text": [
      ".\\tmp\\download_cache_items\\61232b6d-7267-401e-ab66-56af39d4ee18_base_resized.jpg\n",
      ".\\tmp\\download_cache_items\\9c8665ca-5817-456b-9ece-bdd72afe7ed5_base_resized.jpg\n",
      ".\\tmp\\download_cache_items\\74fdf2f9-c2a9-4f1e-93ec-1a5374a0f0bd_base_resized.jpg\n",
      ".\\tmp\\download_cache_items\\879ae9cc-48b4-43bb-8045-b85d647c4296_base_resized.jpg\n",
      ".\\tmp\\download_cache_items\\15480c9e-aa12-4e29-a8fd-7515a44b0b1f_base_resized.jpg\n",
      ".\\tmp\\download_cache_items\\7b01a366-f91f-418d-875e-328a24be3561_base_resized.jpg\n",
      ".\\tmp\\download_cache_items\\1a36e422-222d-478c-a021-3f5cdb594eaf_base_resized.jpg\n",
      ".\\tmp\\download_cache_items\\0cec1dfb-6dc7-4c57-933f-1c47609c962e_base_resized.jpg\n",
      ".\\tmp\\download_cache_items\\5a0ae51e-1758-4c5b-9432-2e68ed967fb8_base_resized.jpg\n",
      ".\\tmp\\download_cache_items\\77d65801-40bc-46d2-969c-33e1aac561b4_base_resized.jpg\n",
      ".\\tmp\\download_cache_items\\31438088-4d01-4168-9097-5cc4de0c4076_base_resized.jpg\n",
      ".\\tmp\\download_cache_items\\5be8f598-3b45-4411-b894-e14a52fcb3c2_base_resized.jpg\n",
      ".\\tmp\\download_cache_items\\692583eb-118a-419f-bfc4-5adadcd0e95d_base_resized.jpg\n",
      ".\\tmp\\download_cache_items\\721327f1-8695-4cda-8167-d24a5d30a583_base_resized.jpg\n",
      ".\\tmp\\download_cache_items\\8d4eb8fa-bb23-4a29-b47f-6d235856c61f_base_resized.jpg\n",
      ".\\tmp\\download_cache_items\\a1d2fe82-ae79-4133-be79-31707be08c49_base_resized.jpg\n",
      ".\\tmp\\download_cache_items\\8b598cf0-c3c4-4687-a7dc-dd82eaab4f35_base_resized.jpg\n",
      ".\\tmp\\download_cache_items\\97494422-8ec8-4bfe-b891-a5897df7eefb_base_resized.jpg\n",
      ".\\tmp\\download_cache_items\\d796bbeb-f006-4d7d-bb2c-227fe014d3ea_base_resized.jpg\n",
      ".\\tmp\\download_cache_items\\1983a908-17c3-4f9d-b77d-71ec55c92057_base_resized.jpg\n",
      ".\\tmp\\download_cache_items\\c38ce2ec-d4db-46e7-9336-1448101c9cc6_base_resized.jpg\n",
      ".\\tmp\\download_cache_items\\a8bef777-230c-406a-a59e-092531b27f0f_base_resized.jpg\n",
      ".\\tmp\\download_cache_items\\55d3bfb9-3f5c-448a-9f96-d5d6870fabd0_base_resized.jpg\n",
      ".\\tmp\\download_cache_items\\ced2503a-9293-4474-b0cc-4be1ae04db4c_base_resized.jpg\n",
      ".\\tmp\\download_cache_items\\aeadc3b7-42f2-4680-a74a-d00f7185e346_base_resized.jpg\n",
      ".\\tmp\\download_cache_items\\eadcdb6e-9327-4b94-82fc-ec8ae8321c85_base_resized.jpg\n",
      ".\\tmp\\download_cache_items\\5480f901-7e30-4713-8315-322d8b862208_base_resized.jpg\n",
      ".\\tmp\\download_cache_items\\7fe759de-4970-47fb-8a72-0feb868354e8_base_resized.jpg\n",
      ".\\tmp\\download_cache_items\\a7d7962d-a4ff-4c0d-9884-e5ffc19d61f0_base_resized.jpg\n",
      ".\\tmp\\download_cache_items\\0e5204a3-6f6b-4076-934a-af32085193c0_base_resized.jpg\n",
      ".\\tmp\\download_cache_items\\314e6364-2488-419a-8fe1-0f69df125c54_base_resized.jpg\n",
      ".\\tmp\\download_cache_items\\3434c5f4-f4a3-41f8-9ab5-18cd266f7e70_base_resized.jpg\n",
      ".\\tmp\\download_cache_items\\187eeac4-530b-49ca-b71d-8fad8dc5fc2f_base_resized.jpg\n",
      ".\\tmp\\download_cache_items\\9fb56ac8-4f85-48c5-9708-c3fc4e79adac_base_resized.jpg\n",
      ".\\tmp\\download_cache_items\\bf9e3d81-88a3-454a-8574-d718fc24b494_base_resized.jpg\n",
      ".\\tmp\\download_cache_items\\abee763a-7732-4908-977d-0b19b5a9dd7b_base_resized.jpg\n",
      ".\\tmp\\download_cache_items\\afcc30a1-ab76-4233-850b-b29b58a1640a_base_resized.jpg\n"
     ]
    },
    {
     "data": {
      "text/plain": [
       "'.\\\\tmp\\\\dist\\\\index.jpg'"
      ]
     },
     "execution_count": 31,
     "metadata": {},
     "output_type": "execute_result"
    }
   ],
   "source": [
    "src_width = get_config_or_default(\"VBNA_SRC_IMAGE_WIDTH\", 300)\n",
    "src_height = get_config_or_default(\"VBNA_SRC_IMAGE_HEIGHT\", 300)\n",
    "\n",
    "dst_width = get_config_or_default(\"VBNA_DST_IMAGE_WIDTH\", 2048)\n",
    "dst_height = get_config_or_default(\"VBNA_DST_IMAGE_HEIGHT\", 2048)\n",
    "dst_margin = get_config_or_default(\"VBNA_DST_IMAGE_MARGIN\", 16)\n",
    "\n",
    "num_column = dst_width // src_width\n",
    "num_row = dst_height // src_height\n",
    "num_visible_items = num_column * num_row\n",
    "\n",
    "def get_dst_dir(clear_cache: bool = False) -> str:\n",
    "    dst_dirname = get_config_or_default(\"VBNA_DST_DIR\", \"dist\")\n",
    "    dst_dir = get_work_dir(dst_dirname, need_recreate=clear_cache)\n",
    "    return dst_dir\n",
    "\n",
    "def create_tile_image(dst_dir: str, local_images: list[str]) -> str:\n",
    "    dst_filename = get_config_or_default(\"VBNA_DST_IMAGE_NAME\", \"index.jpg\")\n",
    "    dst_path = os.path.join(dst_dir, dst_filename);\n",
    "\n",
    "    with Image.new(\"RGB\", (dst_width, dst_height)) as dst_image:\n",
    "        for i, src_image_path in enumerate(local_images):\n",
    "            # tile offset\n",
    "            x = i % num_column\n",
    "            y = i // num_column\n",
    "            # overrun\n",
    "            if x >= num_column or y>= num_row:\n",
    "                break;\n",
    "            # create tile image\n",
    "            with Image.open(src_image_path) as src_image:\n",
    "                src_image.resize((src_width, src_height))\n",
    "                dst_image.paste(src_image, (x * (src_width + dst_margin), y * (src_height + dst_margin)))\n",
    "        dst_image.save(dst_path)\n",
    "    return dst_path\n",
    "\n",
    "dst_dir = get_dst_dir()\n",
    "create_tile_image(dst_dir, local_image_path_arr)"
   ]
  }
 ],
 "metadata": {
  "kernelspec": {
   "display_name": "Python 3",
   "language": "python",
   "name": "python3"
  },
  "language_info": {
   "codemirror_mode": {
    "name": "ipython",
    "version": 3
   },
   "file_extension": ".py",
   "mimetype": "text/x-python",
   "name": "python",
   "nbconvert_exporter": "python",
   "pygments_lexer": "ipython3",
   "version": "3.10.5"
  },
  "orig_nbformat": 4
 },
 "nbformat": 4,
 "nbformat_minor": 2
}
