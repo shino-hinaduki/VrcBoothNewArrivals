{
 "cells": [
  {
   "cell_type": "code",
   "execution_count": 1,
   "metadata": {},
   "outputs": [],
   "source": [
    "import os\n",
    "import requests\n",
    "import shutil\n",
    "from bs4 import BeautifulSoup\n",
    "from PIL import Image"
   ]
  },
  {
   "cell_type": "code",
   "execution_count": 2,
   "metadata": {},
   "outputs": [],
   "source": [
    "def get_booth_items_url() -> str:\n",
    "    target_url = os.getenv(\"VBNA_BOOTH_TARGET_URL\")\n",
    "    if target_url:\n",
    "        return target_url\n",
    "    else:\n",
    "        # default\n",
    "        return \"https://booth.pm/ja/items?sort=new&tags%5B%5D=VRChat\"\n",
    "    \n",
    "target_url = get_booth_items_url()"
   ]
  },
  {
   "cell_type": "code",
   "execution_count": 7,
   "metadata": {},
   "outputs": [],
   "source": [
    "def get_raw_html(url: str) -> str | None:\n",
    "    res = requests.get(target_url)\n",
    "    if res.status_code != 200:\n",
    "        return None\n",
    "    return res.text\n",
    "\n",
    "html_txt = get_raw_html(target_url)"
   ]
  },
  {
   "cell_type": "code",
   "execution_count": 8,
   "metadata": {},
   "outputs": [],
   "source": [
    "def parse_items(text: str) -> list[dict[str, str]]:\n",
    "    soup = BeautifulSoup(text, \"html.parser\")\n",
    "    items = soup.select(\"body > div.page-wrap > main > div.container > div.l-row.l-market-grid.u-mt-0.u-ml-0 > div > div.u-mt-400 > ul > li\")\n",
    "\n",
    "    urls = [i.select(\"div.item-card__thumbnail.js-thumbnail > div.item-card__thumbnail-images > a:nth-child(1)\")[0].attrs[\"href\"] for i in items]\n",
    "    image_urls = [i.select(\"div.item-card__thumbnail.js-thumbnail > div.item-card__thumbnail-images > a:nth-child(1)\")[0].attrs[\"data-original\"] for i in items]\n",
    "    names = [i.select(\"div.item-card__summary > div.item-card__title > a\")[0].text for i in items]\n",
    "    prices = [i.select(\"div.item-card__summary > div.u-d-flex.u-align-items-center.u-justify-content-between > div.price.u-text-primary.u-text-left.u-tpg-caption2\")[0].text for i in items]\n",
    "\n",
    "    return [{\"name\": name, \"url\": url, \"image_url\": image_url, \"price\": price} for (name, url, image_url, price) in zip(names, urls, image_urls, prices)]\n",
    "\n",
    "items = parse_items(html_txt)"
   ]
  },
  {
   "cell_type": "code",
   "execution_count": 12,
   "metadata": {},
   "outputs": [],
   "source": [
    "def get_work_dir(category_name: str, need_recreate: bool) -> str:\n",
    "    base_dir = os.getenv(\"VBNA_CACHE_DIR\")\n",
    "    if not(base_dir):\n",
    "        base_dir = os.path.join(os.path.curdir, \"cache\")\n",
    "    if not (os.path.exists(base_dir)):\n",
    "        os.mkdir(base_dir)\n",
    "\n",
    "    dst_dir = os.path.join(base_dir, category_name)\n",
    "    if not (os.path.exists(dst_dir)):\n",
    "        # create new\n",
    "        os.mkdir(dst_dir)\n",
    "    elif need_recreate:\n",
    "        # remove and recreate\n",
    "        shutil.rmtree(dst_dir)\n",
    "        os.mkdir(dst_dir)\n",
    "    return dst_dir\n",
    "\n",
    "def get_filename_from_url(url: str) -> str:\n",
    "    filename = url[url.rfind(\"/\") + 1:]\n",
    "    if not(filename):\n",
    "        raise NameError(f\"get_filename_from_url(url={url}) -> {filename}\")\n",
    "    return filename\n",
    "\n",
    "def download_images(category: str, target_urls: list[str], clear_cache=False) -> list[str]:\n",
    "    base_dir = get_work_dir(f\"download_cache_{category}\", need_recreate=clear_cache)\n",
    "    for target_url in target_urls:\n",
    "        dst_name = get_filename_from_url(target_url)\n",
    "        dst_path = os.path.join(base_dir, dst_name)\n",
    "        # use from cache\n",
    "        if os.path.exists(dst_path):\n",
    "            continue\n",
    "        # download\n",
    "        res = requests.get(target_url)\n",
    "        if res.status_code != 200:\n",
    "            raise ConnectionError(res)\n",
    "        # write to file\n",
    "        with open(dst_path, mode=\"wb\") as f:\n",
    "            f.write(res.content)\n",
    "        yield dst_path\n",
    "\n",
    "local_images = list(download_images(\"items\", [item[\"image_url\"] for item in items], clear_cache=False))"
   ]
  },
  {
   "cell_type": "code",
   "execution_count": null,
   "metadata": {},
   "outputs": [],
   "source": [
    "src_width = 300\n",
    "src_height = 300\n",
    "dst_width = 2048\n",
    "dst_height = 2048\n",
    "\n",
    "num_column = dst_width // src_width\n",
    "num_row = dst_height // src_height\n",
    "num_visible_items = num_column * num_row\n",
    "tile_width = dst_width // num_column\n",
    "tile_height = dst_height // num_row"
   ]
  }
 ],
 "metadata": {
  "kernelspec": {
   "display_name": "Python 3",
   "language": "python",
   "name": "python3"
  },
  "language_info": {
   "codemirror_mode": {
    "name": "ipython",
    "version": 3
   },
   "file_extension": ".py",
   "mimetype": "text/x-python",
   "name": "python",
   "nbconvert_exporter": "python",
   "pygments_lexer": "ipython3",
   "version": "3.10.5"
  },
  "orig_nbformat": 4
 },
 "nbformat": 4,
 "nbformat_minor": 2
}
