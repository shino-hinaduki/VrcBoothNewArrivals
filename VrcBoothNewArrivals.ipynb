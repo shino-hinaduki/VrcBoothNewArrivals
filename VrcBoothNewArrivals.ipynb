{
 "cells": [
  {
   "cell_type": "code",
   "execution_count": 3,
   "metadata": {},
   "outputs": [],
   "source": [
    "import requests\n",
    "from bs4 import BeautifulSoup"
   ]
  },
  {
   "cell_type": "code",
   "execution_count": 10,
   "metadata": {},
   "outputs": [
    {
     "name": "stdout",
     "output_type": "stream",
     "text": [
      "[VBNA] request https://booth.pm/ja/items?sort=new&tags%5B%5D=VRChat\n"
     ]
    }
   ],
   "source": [
    "target_url = \"https://booth.pm/ja/items?sort=new&tags%5B%5D=VRChat\"\n",
    "print(f\"[VBNA] request {target_url}\")\n",
    "res = requests.get(target_url)\n",
    "if res.status_code != 200:\n",
    "    print(f'[VBNA] failed. resp={res}')"
   ]
  },
  {
   "cell_type": "code",
   "execution_count": 44,
   "metadata": {},
   "outputs": [
    {
     "ename": "IndexError",
     "evalue": "list index out of range",
     "output_type": "error",
     "traceback": [
      "\u001b[1;31m---------------------------------------------------------------------------\u001b[0m",
      "\u001b[1;31mIndexError\u001b[0m                                Traceback (most recent call last)",
      "Cell \u001b[1;32mIn[44], line 16\u001b[0m\n\u001b[0;32m      9\u001b[0m     with_list_counters \u001b[39m=\u001b[39m [i\u001b[39m.\u001b[39mselect(\u001b[39m\"\u001b[39m\u001b[39mdiv.item-card__summary > div.u-d-flex.u-align-items-center.u-justify-content-between > div.l-item-card-favorite > div > div > div > a > div\u001b[39m\u001b[39m\"\u001b[39m)[\u001b[39m0\u001b[39m]\u001b[39m.\u001b[39mtext \u001b[39mfor\u001b[39;00m i \u001b[39min\u001b[39;00m items]\n\u001b[0;32m     11\u001b[0m     \u001b[39mreturn\u001b[39;00m [\n\u001b[0;32m     12\u001b[0m         {\u001b[39m\"\u001b[39m\u001b[39mname\u001b[39m\u001b[39m\"\u001b[39m: name, \u001b[39m\"\u001b[39m\u001b[39murl\u001b[39m\u001b[39m\"\u001b[39m: url, \u001b[39m\"\u001b[39m\u001b[39mimage_url\u001b[39m\u001b[39m\"\u001b[39m: image_url, \u001b[39m\"\u001b[39m\u001b[39mprice\u001b[39m\u001b[39m\"\u001b[39m: price}\n\u001b[0;32m     13\u001b[0m           \u001b[39mfor\u001b[39;00m (name, url, image_url, price) \n\u001b[0;32m     14\u001b[0m           \u001b[39min\u001b[39;00m \u001b[39mzip\u001b[39m(names, urls, image_urls, prices)]\n\u001b[1;32m---> 16\u001b[0m parse_items(res\u001b[39m.\u001b[39;49mtext)\n",
      "Cell \u001b[1;32mIn[44], line 9\u001b[0m, in \u001b[0;36mparse_items\u001b[1;34m(text)\u001b[0m\n\u001b[0;32m      7\u001b[0m names \u001b[39m=\u001b[39m [i\u001b[39m.\u001b[39mselect(\u001b[39m\"\u001b[39m\u001b[39mdiv.item-card__summary > div.item-card__title > a\u001b[39m\u001b[39m\"\u001b[39m)[\u001b[39m0\u001b[39m]\u001b[39m.\u001b[39mtext \u001b[39mfor\u001b[39;00m i \u001b[39min\u001b[39;00m items]\n\u001b[0;32m      8\u001b[0m prices \u001b[39m=\u001b[39m [i\u001b[39m.\u001b[39mselect(\u001b[39m\"\u001b[39m\u001b[39mdiv.item-card__summary > div.u-d-flex.u-align-items-center.u-justify-content-between > div.price.u-text-primary.u-text-left.u-tpg-caption2\u001b[39m\u001b[39m\"\u001b[39m)[\u001b[39m0\u001b[39m]\u001b[39m.\u001b[39mtext \u001b[39mfor\u001b[39;00m i \u001b[39min\u001b[39;00m items]\n\u001b[1;32m----> 9\u001b[0m with_list_counters \u001b[39m=\u001b[39m [i\u001b[39m.\u001b[39mselect(\u001b[39m\"\u001b[39m\u001b[39mdiv.item-card__summary > div.u-d-flex.u-align-items-center.u-justify-content-between > div.l-item-card-favorite > div > div > div > a > div\u001b[39m\u001b[39m\"\u001b[39m)[\u001b[39m0\u001b[39m]\u001b[39m.\u001b[39mtext \u001b[39mfor\u001b[39;00m i \u001b[39min\u001b[39;00m items]\n\u001b[0;32m     11\u001b[0m \u001b[39mreturn\u001b[39;00m [\n\u001b[0;32m     12\u001b[0m     {\u001b[39m\"\u001b[39m\u001b[39mname\u001b[39m\u001b[39m\"\u001b[39m: name, \u001b[39m\"\u001b[39m\u001b[39murl\u001b[39m\u001b[39m\"\u001b[39m: url, \u001b[39m\"\u001b[39m\u001b[39mimage_url\u001b[39m\u001b[39m\"\u001b[39m: image_url, \u001b[39m\"\u001b[39m\u001b[39mprice\u001b[39m\u001b[39m\"\u001b[39m: price}\n\u001b[0;32m     13\u001b[0m       \u001b[39mfor\u001b[39;00m (name, url, image_url, price) \n\u001b[0;32m     14\u001b[0m       \u001b[39min\u001b[39;00m \u001b[39mzip\u001b[39m(names, urls, image_urls, prices)]\n",
      "Cell \u001b[1;32mIn[44], line 9\u001b[0m, in \u001b[0;36m<listcomp>\u001b[1;34m(.0)\u001b[0m\n\u001b[0;32m      7\u001b[0m names \u001b[39m=\u001b[39m [i\u001b[39m.\u001b[39mselect(\u001b[39m\"\u001b[39m\u001b[39mdiv.item-card__summary > div.item-card__title > a\u001b[39m\u001b[39m\"\u001b[39m)[\u001b[39m0\u001b[39m]\u001b[39m.\u001b[39mtext \u001b[39mfor\u001b[39;00m i \u001b[39min\u001b[39;00m items]\n\u001b[0;32m      8\u001b[0m prices \u001b[39m=\u001b[39m [i\u001b[39m.\u001b[39mselect(\u001b[39m\"\u001b[39m\u001b[39mdiv.item-card__summary > div.u-d-flex.u-align-items-center.u-justify-content-between > div.price.u-text-primary.u-text-left.u-tpg-caption2\u001b[39m\u001b[39m\"\u001b[39m)[\u001b[39m0\u001b[39m]\u001b[39m.\u001b[39mtext \u001b[39mfor\u001b[39;00m i \u001b[39min\u001b[39;00m items]\n\u001b[1;32m----> 9\u001b[0m with_list_counters \u001b[39m=\u001b[39m [i\u001b[39m.\u001b[39;49mselect(\u001b[39m\"\u001b[39;49m\u001b[39mdiv.item-card__summary > div.u-d-flex.u-align-items-center.u-justify-content-between > div.l-item-card-favorite > div > div > div > a > div\u001b[39;49m\u001b[39m\"\u001b[39;49m)[\u001b[39m0\u001b[39;49m]\u001b[39m.\u001b[39mtext \u001b[39mfor\u001b[39;00m i \u001b[39min\u001b[39;00m items]\n\u001b[0;32m     11\u001b[0m \u001b[39mreturn\u001b[39;00m [\n\u001b[0;32m     12\u001b[0m     {\u001b[39m\"\u001b[39m\u001b[39mname\u001b[39m\u001b[39m\"\u001b[39m: name, \u001b[39m\"\u001b[39m\u001b[39murl\u001b[39m\u001b[39m\"\u001b[39m: url, \u001b[39m\"\u001b[39m\u001b[39mimage_url\u001b[39m\u001b[39m\"\u001b[39m: image_url, \u001b[39m\"\u001b[39m\u001b[39mprice\u001b[39m\u001b[39m\"\u001b[39m: price}\n\u001b[0;32m     13\u001b[0m       \u001b[39mfor\u001b[39;00m (name, url, image_url, price) \n\u001b[0;32m     14\u001b[0m       \u001b[39min\u001b[39;00m \u001b[39mzip\u001b[39m(names, urls, image_urls, prices)]\n",
      "\u001b[1;31mIndexError\u001b[0m: list index out of range"
     ]
    }
   ],
   "source": [
    "def parse_items(text: str) -> list[dict[str, str]]:\n",
    "    soup = BeautifulSoup(text, \"html.parser\")\n",
    "    items = soup.select(\"body > div.page-wrap > main > div.container > div.l-row.l-market-grid.u-mt-0.u-ml-0 > div > div.u-mt-400 > ul > li\")\n",
    "\n",
    "    urls = [i.select(\"div.item-card__thumbnail.js-thumbnail > div.item-card__thumbnail-images > a:nth-child(1)\")[0].attrs[\"href\"] for i in items]\n",
    "    image_urls = [i.select(\"div.item-card__thumbnail.js-thumbnail > div.item-card__thumbnail-images > a:nth-child(1)\")[0].attrs[\"data-original\"] for i in items]\n",
    "    names = [i.select(\"div.item-card__summary > div.item-card__title > a\")[0].text for i in items]\n",
    "    prices = [i.select(\"div.item-card__summary > div.u-d-flex.u-align-items-center.u-justify-content-between > div.price.u-text-primary.u-text-left.u-tpg-caption2\")[0].text for i in items]\n",
    "\n",
    "    return [\n",
    "        {\"name\": name, \"url\": url, \"image_url\": image_url, \"price\": price}\n",
    "          for (name, url, image_url, price) \n",
    "          in zip(names, urls, image_urls, prices)]\n",
    "\n",
    "parse_items(res.text)"
   ]
  }
 ],
 "metadata": {
  "kernelspec": {
   "display_name": "Python 3",
   "language": "python",
   "name": "python3"
  },
  "language_info": {
   "codemirror_mode": {
    "name": "ipython",
    "version": 3
   },
   "file_extension": ".py",
   "mimetype": "text/x-python",
   "name": "python",
   "nbconvert_exporter": "python",
   "pygments_lexer": "ipython3",
   "version": "3.10.5"
  },
  "orig_nbformat": 4
 },
 "nbformat": 4,
 "nbformat_minor": 2
}
